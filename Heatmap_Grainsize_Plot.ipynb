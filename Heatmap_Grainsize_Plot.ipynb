{
 "cells": [
  {
   "cell_type": "code",
   "execution_count": 9,
   "id": "a0b7501b",
   "metadata": {},
   "outputs": [
    {
     "name": "stdout",
     "output_type": "stream",
     "text": [
      "Plot saved as LakeCore1.pdf\n"
     ]
    },
    {
     "data": {
      "image/png": "[encoded data removed]",
      "text/plain": [
       "<Figure size 144x576 with 2 Axes>"
      ]
     },
     "metadata": {
      "needs_background": "light"
     },
     "output_type": "display_data"
    }
   ],
   "source": [
    "import matplotlib.pyplot as plt\n",
    "import matplotlib.colors as mcolors\n",
    "import cmcrameri\n",
    "import os\n",
    "import pandas as pd\n",
    "\n",
    "def extract_depths(file_name):\n",
    "    depths_str = file_name.split('_')[-1].split('-')\n",
    "    try:\n",
    "        lower_depth = float(depths_str[0].replace('mm', '').strip())\n",
    "        upper_depth = float(depths_str[1].replace('mm', '').strip())\n",
    "        return lower_depth, upper_depth\n",
    "    except (ValueError, IndexError) as e:\n",
    "        raise ValueError(f\"Error processing file name: {file_name}. Ensure it follows the format 'filename_lower-upper.csv'.\") from e\n",
    "\n",
    "# Function to read data from multiple CSV files\n",
    "def read_multiple_data(directory):\n",
    "    all_data = []\n",
    "    for filename in os.listdir(directory):\n",
    "        if filename.endswith(\".csv\"):\n",
    "            file_path = os.path.join(directory, filename)\n",
    "            data = pd.read_csv(file_path)\n",
    "            lower_depth, upper_depth = extract_depths(os.path.basename(file_path).split('.')[0])  # Extract depths from file name\n",
    "            data['Lower Depth'] = lower_depth\n",
    "            data['Upper Depth'] = upper_depth\n",
    "            all_data.append(data)\n",
    "    return pd.concat(all_data, ignore_index=True)\n",
    "\n",
    "def plot_combined_data(combined_data, output_pdf='LakeCore1.pdf'):\n",
    "    fig, ax1 = plt.subplots(figsize=(2, 8))  # Adjust the width and height (in inches) as needed\n",
    "\n",
    "    # Plot weight percent\n",
    "    cmap = cmcrameri.cm.batlow  # Using the 'batlow' colormap from cmcrameri\n",
    "    norm = mcolors.Normalize(vmin=0, vmax=combined_data['Histogram (%) q3'].max())\n",
    "    \n",
    "    # Filter out NaN values\n",
    "    combined_data_filtered = combined_data.dropna(subset=['um', 'Lower Depth', 'Histogram (%) q3'])\n",
    "\n",
    "    sc = ax1.scatter(combined_data_filtered['um'], combined_data_filtered['Lower Depth'], c=combined_data_filtered['Histogram (%) q3'], cmap=cmap, norm=norm, marker=\"|\", s=100)\n",
    "    cbar = plt.colorbar(sc, ax=ax1, label='Weight Percent')\n",
    "    \n",
    "    # Reverse the y-axis\n",
    "    ax1.set_ylim(ax1.get_ylim()[::-1])\n",
    "\n",
    "    # Set x-axis to log scale with range from 1 to 1000\n",
    "    ax1.set_xscale('log')\n",
    "    ax1.set_xlim(1, 1000)  # Set the x-axis limit from 1 to 1000\n",
    "\n",
    "    # Set labels and titles\n",
    "    ax1.set_xlabel('Grain Size (μm)')\n",
    "    ax1.set_ylabel('Depth (mm)')\n",
    "    ax1.set_title('Lake Core 1 Grain Size Distribution')\n",
    "    \n",
    "    # Save the figure as a PDF\n",
    "    plt.savefig(output_pdf, bbox_inches='tight', dpi=300)\n",
    "    print(f\"Plot saved as {output_pdf}\")\n",
    "    \n",
    "    plt.show()\n",
    "\n",
    "# Directory containing CSV files\n",
    "directory = 'FILENAMEHERE'\n",
    "# Read and combine data from multiple CSV files\n",
    "combined_data = read_multiple_data(directory)\n",
    "\n",
    "# Plot combined data\n",
    "plot_combined_data(combined_data)\n"
   ]
  },
  {
   "cell_type": "code",
   "execution_count": null,
   "id": "0e93af1a",
   "metadata": {},
   "outputs": [],
   "source": []
  }
 ],
 "metadata": {
  "kernelspec": {
   "display_name": "Python 3 (ipykernel)",
   "language": "python",
   "name": "python3"
  },
  "language_info": {
   "codemirror_mode": {
    "name": "ipython",
    "version": 3
   },
   "file_extension": ".py",
   "mimetype": "text/x-python",
   "name": "python",
   "nbconvert_exporter": "python",
   "pygments_lexer": "ipython3",
   "version": "3.13.5"
  }
 },
 "nbformat": 4,
 "nbformat_minor": 5
}
