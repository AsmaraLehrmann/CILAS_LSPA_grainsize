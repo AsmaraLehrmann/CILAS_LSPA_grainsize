{
 "cells": [
  {
   "cell_type": "code",
   "execution_count": null,
   "id": "8c05d2a8",
   "metadata": {},
   "outputs": [],
   "source": [
    "# --- User inputs (interactive) ---\n",
    "directory   = input(\"📁 Enter the folder path containing your CSVs: \").strip()\n",
    "core_name   = input(\"🧪 Enter core name (e.g., LakeCore1): \").strip()\n",
    "plot_title  = input(\"📊 Enter plot title: \").strip()\n",
    "output_dir  = input(\"💾 Enter output directory (default '.'): \").strip() or \".\"\n",
    "fig_w       = float(input(\"📏 Figure width (inches, default 2): \") or 2)\n",
    "fig_h       = float(input(\"📐 Figure height (inches, default 10): \") or 10)\n",
    "\n",
    "# Wentworth bins (µm) and labels\n",
    "wentworth_bins   = [0, 4, 63, 2000]\n",
    "wentworth_labels = [\"Clay\", \"Silt\", \"Sand\"]\n",
    "\n",
    "figsize = (fig_w, fig_h)\n",
    "print(f\"\\n✅ Ready! Core '{core_name}' — using data in: {directory}\\n\")\n"
   ]
  },
  {
   "cell_type": "code",
   "execution_count": null,
   "id": "b4f0b2e0-b3c5-422f-a061-6eca89f49c52",
   "metadata": {},
   "outputs": [],
   "source": [
    "#Cell 2\n",
    "import os\n",
    "import numpy as np\n",
    "import pandas as pd\n",
    "import matplotlib.pyplot as plt\n",
    "from datetime import date\n",
    "\n",
    "plt.rcParams.update({\"font.size\": 15})\n"
   ]
  },
  {
   "cell_type": "code",
   "execution_count": null,
   "id": "0e93af1a",
   "metadata": {},
   "outputs": [],
   "source": [
    "#Cell 3\n",
    "def extract_depths(file_stem: str):\n",
    "    parts = file_stem.split(\"_\")[-1].split(\"-\")\n",
    "    try:\n",
    "        lo = float(parts[0].replace(\"mm\", \"\").strip())\n",
    "        hi = float(parts[1].replace(\"mm\", \"\").strip())\n",
    "        return lo, hi, (lo + hi) / 2\n",
    "    except (ValueError, IndexError) as e:\n",
    "        raise ValueError(\n",
    "            f\"Bad name '{file_stem}'. Use '..._<lower>-<upper>mm.csv'.\"\n",
    "        ) from e\n"
   ]
  },
  {
   "cell_type": "code",
   "execution_count": null,
   "id": "618d02a8-d856-4c71-b94a-659c46b1b67b",
   "metadata": {},
   "outputs": [],
   "source": [
    "#Cell 4\n",
    "def read_multiple_data(directory: str) -> pd.DataFrame:\n",
    "    frames = []\n",
    "    for fn in os.listdir(directory):\n",
    "        if not fn.endswith(\".csv\"): \n",
    "            continue\n",
    "        fp = os.path.join(directory, fn)\n",
    "        df = pd.read_csv(fp)\n",
    "        lo, hi, mid = extract_depths(os.path.splitext(os.path.basename(fp))[0])\n",
    "        df[\"Lower Depth\"] = lo\n",
    "        df[\"Upper Depth\"] = hi\n",
    "        df[\"Center Depth\"] = mid\n",
    "        frames.append(df)\n",
    "    if not frames:\n",
    "        raise FileNotFoundError(f\"No CSVs in {directory}\")\n",
    "    return pd.concat(frames, ignore_index=True)\n"
   ]
  },
  {
   "cell_type": "code",
   "execution_count": null,
   "id": "549e280f-a547-4a1e-adee-54b385bb9aab",
   "metadata": {},
   "outputs": [],
   "source": [
    "def plot_wentworth_scale(data, bins, labels, title, figsize, out_pdf, gap_mm=20, colors=None):\n",
    "    depths = np.sort(data[\"Center Depth\"].unique())\n",
    "    binned = pd.cut(data[\"um\"], bins=bins, labels=labels, right=False, include_lowest=True, ordered=True)\n",
    "    tmp = data.assign(class_=binned).groupby([\"Center Depth\", \"class_\"], observed=True)[\"Histogram (%) q3\"].sum().reset_index()\n",
    "    wide = tmp.pivot(index=\"Center Depth\", columns=\"class_\", values=\"Histogram (%) q3\").reindex(labels, axis=1).fillna(0)\n",
    "    cumu = wide.cumsum(axis=1).to_numpy(); fig, ax = plt.subplots(figsize=figsize)\n",
    "    idx = np.arange(len(depths)); gaps = np.where(np.diff(depths) > gap_mm)[0]; segs = np.split(idx, gaps + 1)\n",
    "    cols = colors or [\"#1f77b4\", \"#17becf\", \"#bcbd22\"]  # Clay, Silt, Sand\n",
    "    for i, lab in enumerate(labels):\n",
    "        left = np.zeros(len(depths)) if i == 0 else cumu[:, i-1]; right = cumu[:, i]\n",
    "        for j, s in enumerate(segs):\n",
    "            ys = depths[s]; yl = left[s]; yr = right[s]\n",
    "            ypad = np.r_[ys[0]-1e-6, ys, ys[-1]+1e-6]\n",
    "            ax.fill_betweenx(ypad, np.r_[yl[0], yl, yl[-1]], np.r_[yr[0], yr, yr[-1]],\n",
    "                             color=cols[i], label=lab if j == 0 else None)\n",
    "    ax.set(xlim=(0, 100), ylabel=\"Core Depth (mm)\", xlabel=\"Grain Size (%)\", title=title)\n",
    "    ax.invert_yaxis(); ax.legend(loc=\"lower center\", bbox_to_anchor=(0.5, -0.15), ncol=len(labels), frameon=False)\n",
    "    fig.savefig(out_pdf, bbox_inches=\"tight\", dpi=300); plt.close(fig); print(f\"Plot saved as {out_pdf}\")\n"
   ]
  },
  {
   "cell_type": "code",
   "execution_count": null,
   "id": "1aac058f-feed-4b79-9e48-b4be7a7b9b8d",
   "metadata": {},
   "outputs": [],
   "source": [
    "#Cell 6\n",
    "combined_data = read_multiple_data(directory)\n",
    "combined_data.head()\n"
   ]
  },
  {
   "cell_type": "code",
   "execution_count": null,
   "id": "19eec76d-5583-48b6-9be2-6781d90cdd66",
   "metadata": {},
   "outputs": [],
   "source": [
    "plot_wentworth_scale(\n",
    "    combined_data, wentworth_bins, wentworth_labels, plot_title, figsize, out_path,\n",
    "    gap_mm=20, colors=[\"#653700\", \"#808080\", \"#E6DAA6\"]  # Clay, Silt, Sand\n",
    ")\n"
   ]
  },
  {
   "cell_type": "code",
   "execution_count": null,
   "id": "32d4b96e-5c40-4a23-bf84-686ff5a5d857",
   "metadata": {},
   "outputs": [],
   "source": []
  }
 ],
 "metadata": {
  "kernelspec": {
   "display_name": "Python 3 (ipykernel)",
   "language": "python",
   "name": "python3"
  },
  "language_info": {
   "codemirror_mode": {
    "name": "ipython",
    "version": 3
   },
   "file_extension": ".py",
   "mimetype": "text/x-python",
   "name": "python",
   "nbconvert_exporter": "python",
   "pygments_lexer": "ipython3",
   "version": "3.13.5"
  }
 },
 "nbformat": 4,
 "nbformat_minor": 5
}
